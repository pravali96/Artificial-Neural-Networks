{
  "nbformat": 4,
  "nbformat_minor": 0,
  "metadata": {
    "colab": {
      "name": "Air_Quality_Index.ipynb",
      "provenance": [],
      "authorship_tag": "ABX9TyOzsK8B+9wdHUeq3fo0n2fP",
      "include_colab_link": true
    },
    "kernelspec": {
      "name": "python3",
      "display_name": "Python 3"
    },
    "language_info": {
      "name": "python"
    }
  },
  "cells": [
    {
      "cell_type": "markdown",
      "metadata": {
        "id": "view-in-github",
        "colab_type": "text"
      },
      "source": [
        "<a href=\"https://colab.research.google.com/github/pravali96/Artificial-Neural-Networks/blob/main/Air_Quality_Index.ipynb\" target=\"_parent\"><img src=\"https://colab.research.google.com/assets/colab-badge.svg\" alt=\"Open In Colab\"/></a>"
      ]
    },
    {
      "cell_type": "code",
      "metadata": {
        "id": "ZHGlWwg8OcCK"
      },
      "source": [
        "import pandas as pd\n",
        "import numpy as np\n",
        "import tensorflow as tf\n",
        "from tensorflow import keras\n",
        "!pip install -q -U keras-tuner\n",
        "import keras_tuner as kt"
      ],
      "execution_count": null,
      "outputs": []
    },
    {
      "cell_type": "code",
      "metadata": {
        "colab": {
          "resources": {
            "http://localhost:8080/nbextensions/google.colab/files.js": {
              "data": "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",
              "ok": true,
              "headers": [
                [
                  "content-type",
                  "application/javascript"
                ]
              ],
              "status": 200,
              "status_text": ""
            }
          },
          "base_uri": "https://localhost:8080/",
          "height": 73
        },
        "id": "P4IJeVgqVqL3",
        "outputId": "4120f172-ccf9-4068-dc7c-5210d2ca636d"
      },
      "source": [
        "from google.colab import files\n",
        "uploaded=files.upload()\n",
        "import io"
      ],
      "execution_count": null,
      "outputs": [
        {
          "output_type": "display_data",
          "data": {
            "text/html": [
              "\n",
              "     <input type=\"file\" id=\"files-cb5ab353-acbf-4eb2-9c1f-04c422674b6b\" name=\"files[]\" multiple disabled\n",
              "        style=\"border:none\" />\n",
              "     <output id=\"result-cb5ab353-acbf-4eb2-9c1f-04c422674b6b\">\n",
              "      Upload widget is only available when the cell has been executed in the\n",
              "      current browser session. Please rerun this cell to enable.\n",
              "      </output>\n",
              "      <script src=\"/nbextensions/google.colab/files.js\"></script> "
            ],
            "text/plain": [
              "<IPython.core.display.HTML object>"
            ]
          },
          "metadata": {
            "tags": []
          }
        },
        {
          "output_type": "stream",
          "text": [
            "Saving air_quality.csv to air_quality (2).csv\n"
          ],
          "name": "stdout"
        }
      ]
    },
    {
      "cell_type": "code",
      "metadata": {
        "id": "dyV01-56V25a"
      },
      "source": [
        "df=pd.read_csv('air_quality.csv')"
      ],
      "execution_count": null,
      "outputs": []
    },
    {
      "cell_type": "code",
      "metadata": {
        "colab": {
          "base_uri": "https://localhost:8080/",
          "height": 196
        },
        "id": "wYRI8D52V-DS",
        "outputId": "92ab82e8-0d8f-40b8-c391-4d436a6f2b0c"
      },
      "source": [
        "df.head()"
      ],
      "execution_count": null,
      "outputs": [
        {
          "output_type": "execute_result",
          "data": {
            "text/html": [
              "<div>\n",
              "<style scoped>\n",
              "    .dataframe tbody tr th:only-of-type {\n",
              "        vertical-align: middle;\n",
              "    }\n",
              "\n",
              "    .dataframe tbody tr th {\n",
              "        vertical-align: top;\n",
              "    }\n",
              "\n",
              "    .dataframe thead th {\n",
              "        text-align: right;\n",
              "    }\n",
              "</style>\n",
              "<table border=\"1\" class=\"dataframe\">\n",
              "  <thead>\n",
              "    <tr style=\"text-align: right;\">\n",
              "      <th></th>\n",
              "      <th>T</th>\n",
              "      <th>TM</th>\n",
              "      <th>Tm</th>\n",
              "      <th>SLP</th>\n",
              "      <th>H</th>\n",
              "      <th>VV</th>\n",
              "      <th>V</th>\n",
              "      <th>VM</th>\n",
              "      <th>PM 2.5</th>\n",
              "    </tr>\n",
              "  </thead>\n",
              "  <tbody>\n",
              "    <tr>\n",
              "      <th>0</th>\n",
              "      <td>7.4</td>\n",
              "      <td>9.8</td>\n",
              "      <td>4.8</td>\n",
              "      <td>1017.6</td>\n",
              "      <td>93.0</td>\n",
              "      <td>0.5</td>\n",
              "      <td>4.3</td>\n",
              "      <td>9.4</td>\n",
              "      <td>219.720833</td>\n",
              "    </tr>\n",
              "    <tr>\n",
              "      <th>1</th>\n",
              "      <td>7.8</td>\n",
              "      <td>12.7</td>\n",
              "      <td>4.4</td>\n",
              "      <td>1018.5</td>\n",
              "      <td>87.0</td>\n",
              "      <td>0.6</td>\n",
              "      <td>4.4</td>\n",
              "      <td>11.1</td>\n",
              "      <td>182.187500</td>\n",
              "    </tr>\n",
              "    <tr>\n",
              "      <th>2</th>\n",
              "      <td>6.7</td>\n",
              "      <td>13.4</td>\n",
              "      <td>2.4</td>\n",
              "      <td>1019.4</td>\n",
              "      <td>82.0</td>\n",
              "      <td>0.6</td>\n",
              "      <td>4.8</td>\n",
              "      <td>11.1</td>\n",
              "      <td>154.037500</td>\n",
              "    </tr>\n",
              "    <tr>\n",
              "      <th>3</th>\n",
              "      <td>8.6</td>\n",
              "      <td>15.5</td>\n",
              "      <td>3.3</td>\n",
              "      <td>1018.7</td>\n",
              "      <td>72.0</td>\n",
              "      <td>0.8</td>\n",
              "      <td>8.1</td>\n",
              "      <td>20.6</td>\n",
              "      <td>223.208333</td>\n",
              "    </tr>\n",
              "    <tr>\n",
              "      <th>4</th>\n",
              "      <td>12.4</td>\n",
              "      <td>20.9</td>\n",
              "      <td>4.4</td>\n",
              "      <td>1017.3</td>\n",
              "      <td>61.0</td>\n",
              "      <td>1.3</td>\n",
              "      <td>8.7</td>\n",
              "      <td>22.2</td>\n",
              "      <td>200.645833</td>\n",
              "    </tr>\n",
              "  </tbody>\n",
              "</table>\n",
              "</div>"
            ],
            "text/plain": [
              "      T    TM   Tm     SLP     H   VV    V    VM      PM 2.5\n",
              "0   7.4   9.8  4.8  1017.6  93.0  0.5  4.3   9.4  219.720833\n",
              "1   7.8  12.7  4.4  1018.5  87.0  0.6  4.4  11.1  182.187500\n",
              "2   6.7  13.4  2.4  1019.4  82.0  0.6  4.8  11.1  154.037500\n",
              "3   8.6  15.5  3.3  1018.7  72.0  0.8  8.1  20.6  223.208333\n",
              "4  12.4  20.9  4.4  1017.3  61.0  1.3  8.7  22.2  200.645833"
            ]
          },
          "metadata": {
            "tags": []
          },
          "execution_count": 4
        }
      ]
    },
    {
      "cell_type": "code",
      "metadata": {
        "colab": {
          "base_uri": "https://localhost:8080/"
        },
        "id": "tFR8c1KOWCG5",
        "outputId": "d7af7296-1ab4-4c1a-8def-ee3425484843"
      },
      "source": [
        "df.isnull().sum()"
      ],
      "execution_count": null,
      "outputs": [
        {
          "output_type": "execute_result",
          "data": {
            "text/plain": [
              "T         0\n",
              "TM        0\n",
              "Tm        0\n",
              "SLP       0\n",
              "H         0\n",
              "VV        0\n",
              "V         0\n",
              "VM        0\n",
              "PM 2.5    1\n",
              "dtype: int64"
            ]
          },
          "metadata": {
            "tags": []
          },
          "execution_count": 5
        }
      ]
    },
    {
      "cell_type": "code",
      "metadata": {
        "id": "lsxi3dQXWD_J"
      },
      "source": [
        "df=df.dropna()"
      ],
      "execution_count": null,
      "outputs": []
    },
    {
      "cell_type": "code",
      "metadata": {
        "id": "1OG8qcEpWFc-"
      },
      "source": [
        "y=df.iloc[:,-1]\n",
        "X=df.iloc[:,:-1]"
      ],
      "execution_count": null,
      "outputs": []
    },
    {
      "cell_type": "code",
      "metadata": {
        "id": "DLM4Y8N0W3TA"
      },
      "source": [
        "# Creating Train test split\n",
        "from sklearn.model_selection import train_test_split\n",
        "X_train, X_test, y_train, y_test = train_test_split(X,y, test_size=0.2, random_state=0)"
      ],
      "execution_count": null,
      "outputs": []
    },
    {
      "cell_type": "code",
      "metadata": {
        "id": "ARzb59a6WhKq"
      },
      "source": [
        "from sklearn.preprocessing import StandardScaler\n",
        "sc=StandardScaler()\n",
        "X_train=sc.fit_transform(X_train)\n",
        "X_test=sc.transform(X_test)"
      ],
      "execution_count": null,
      "outputs": []
    },
    {
      "cell_type": "code",
      "metadata": {
        "id": "D5_76_TzWm_P"
      },
      "source": [
        "def model_builder(hp):\n",
        "  model = keras.Sequential()\n",
        "  for i in range(hp.Int('num_layers',2,20)):\n",
        "    model.add(keras.layers.Dense(units=hp.Int('units_' + str(i),\n",
        "                                            min_value=32,\n",
        "                                            max_value=512,\n",
        "                                            step=32),\n",
        "                               activation='relu'))\n",
        "  # Tune the number of units in the first Dense layer\n",
        "  # Choose an optimal value between 32-512\n",
        "  model.add(keras.layers.Dense(1, activation='linear'))\n",
        "  # Tune the learning rate for the optimizer\n",
        "  # Choose an optimal value from 0.01, 0.001, or 0.0001\n",
        "  hp_learning_rate = hp.Choice('learning_rate', values=[1e-2, 1e-3, 1e-4])\n",
        "  model.compile(optimizer=keras.optimizers.Adam(learning_rate=hp_learning_rate),\n",
        "                loss='mean_absolute_error',\n",
        "                metrics=['mean_absolute_error'])\n",
        "\n",
        "  return model"
      ],
      "execution_count": null,
      "outputs": []
    },
    {
      "cell_type": "code",
      "metadata": {
        "id": "jp2bQsHMdSfA",
        "colab": {
          "base_uri": "https://localhost:8080/"
        },
        "outputId": "0e4913fb-6994-4eb5-a4d3-960455dfe39d"
      },
      "source": [
        "from keras_tuner import RandomSearch\n",
        "tuner = RandomSearch(\n",
        "    model_builder,\n",
        "    objective='val_mean_absolute_error',\n",
        "    max_trials=5,\n",
        "    executions_per_trial=3,\n",
        "    directory='project',\n",
        "    project_name='Air Quality Index')"
      ],
      "execution_count": null,
      "outputs": [
        {
          "output_type": "stream",
          "text": [
            "INFO:tensorflow:Reloading Oracle from existing project project/Air Quality Index/oracle.json\n",
            "INFO:tensorflow:Reloading Tuner from project/Air Quality Index/tuner0.json\n"
          ],
          "name": "stdout"
        }
      ]
    },
    {
      "cell_type": "code",
      "metadata": {
        "colab": {
          "base_uri": "https://localhost:8080/"
        },
        "id": "wofEREcBZWdk",
        "outputId": "3df5ec84-e13a-4214-f913-cc1885f5256c"
      },
      "source": [
        "tuner.search_space_summary"
      ],
      "execution_count": null,
      "outputs": [
        {
          "output_type": "execute_result",
          "data": {
            "text/plain": [
              "<bound method BaseTuner.search_space_summary of <keras_tuner.tuners.randomsearch.RandomSearch object at 0x7f1efc401150>>"
            ]
          },
          "metadata": {
            "tags": []
          },
          "execution_count": 12
        }
      ]
    },
    {
      "cell_type": "code",
      "metadata": {
        "colab": {
          "base_uri": "https://localhost:8080/"
        },
        "id": "aPm4N15iZtMw",
        "outputId": "65916d23-d3ec-48c1-f183-0f4bdde89b1e"
      },
      "source": [
        "tuner.search(X_train, y_train,\n",
        "             epochs=5,\n",
        "             validation_data=(X_test, y_test))"
      ],
      "execution_count": null,
      "outputs": [
        {
          "output_type": "stream",
          "text": [
            "INFO:tensorflow:Oracle triggered exit\n"
          ],
          "name": "stdout"
        }
      ]
    },
    {
      "cell_type": "code",
      "metadata": {
        "colab": {
          "base_uri": "https://localhost:8080/"
        },
        "id": "RH8Zx0lKZ8XM",
        "outputId": "6190f023-8f6d-44ee-f6a1-761211eec30e"
      },
      "source": [
        "tuner.results_summary()"
      ],
      "execution_count": null,
      "outputs": [
        {
          "output_type": "stream",
          "text": [
            "Results summary\n",
            "Results in project/Air Quality Index\n",
            "Showing 10 best trials\n",
            "Objective(name='val_mean_absolute_error', direction='min')\n",
            "Trial summary\n",
            "Hyperparameters:\n",
            "num_layers: 17\n",
            "units_0: 128\n",
            "units_1: 416\n",
            "learning_rate: 0.001\n",
            "units_2: 224\n",
            "units_3: 448\n",
            "units_4: 320\n",
            "units_5: 416\n",
            "units_6: 512\n",
            "units_7: 320\n",
            "units_8: 64\n",
            "units_9: 320\n",
            "units_10: 256\n",
            "units_11: 160\n",
            "units_12: 448\n",
            "units_13: 320\n",
            "units_14: 512\n",
            "units_15: 64\n",
            "units_16: 32\n",
            "Score: 35.00788243611654\n",
            "Trial summary\n",
            "Hyperparameters:\n",
            "num_layers: 4\n",
            "units_0: 416\n",
            "units_1: 416\n",
            "learning_rate: 0.001\n",
            "units_2: 32\n",
            "units_3: 32\n",
            "Score: 41.79108428955078\n",
            "Trial summary\n",
            "Hyperparameters:\n",
            "num_layers: 9\n",
            "units_0: 448\n",
            "units_1: 320\n",
            "learning_rate: 0.0001\n",
            "units_2: 64\n",
            "units_3: 512\n",
            "units_4: 480\n",
            "units_5: 32\n",
            "units_6: 224\n",
            "units_7: 128\n",
            "units_8: 224\n",
            "units_9: 224\n",
            "units_10: 352\n",
            "units_11: 64\n",
            "units_12: 416\n",
            "units_13: 32\n",
            "units_14: 96\n",
            "units_15: 352\n",
            "units_16: 448\n",
            "Score: 46.44004821777344\n",
            "Trial summary\n",
            "Hyperparameters:\n",
            "num_layers: 16\n",
            "units_0: 192\n",
            "units_1: 352\n",
            "learning_rate: 0.0001\n",
            "units_2: 384\n",
            "units_3: 224\n",
            "units_4: 384\n",
            "units_5: 32\n",
            "units_6: 32\n",
            "units_7: 32\n",
            "units_8: 32\n",
            "units_9: 32\n",
            "units_10: 32\n",
            "units_11: 32\n",
            "units_12: 32\n",
            "units_13: 32\n",
            "units_14: 32\n",
            "units_15: 32\n",
            "Score: 50.095480600992836\n",
            "Trial summary\n",
            "Hyperparameters:\n",
            "num_layers: 5\n",
            "units_0: 384\n",
            "units_1: 288\n",
            "learning_rate: 0.0001\n",
            "units_2: 128\n",
            "units_3: 448\n",
            "units_4: 32\n",
            "Score: 51.78632354736328\n"
          ],
          "name": "stdout"
        }
      ]
    },
    {
      "cell_type": "code",
      "metadata": {
        "colab": {
          "base_uri": "https://localhost:8080/"
        },
        "id": "ZhLh_HdKaKwb",
        "outputId": "cc48ed74-5c85-4ffd-b1dc-2bd6eb65f9a5"
      },
      "source": [
        "best_model = tuner.get_best_models(num_models=1)[0]\n",
        "loss, mae = best_model.evaluate(X_test, y_test)"
      ],
      "execution_count": null,
      "outputs": [
        {
          "output_type": "stream",
          "text": [
            "7/7 [==============================] - 1s 8ms/step - loss: 34.4206 - mean_absolute_error: 34.4206\n"
          ],
          "name": "stdout"
        }
      ]
    },
    {
      "cell_type": "code",
      "metadata": {
        "colab": {
          "base_uri": "https://localhost:8080/"
        },
        "id": "aCaXyu3Deazk",
        "outputId": "b278c17b-730b-4091-9295-46b347d445cf"
      },
      "source": [
        "best_model.summary()"
      ],
      "execution_count": null,
      "outputs": [
        {
          "output_type": "stream",
          "text": [
            "Model: \"sequential\"\n",
            "_________________________________________________________________\n",
            "Layer (type)                 Output Shape              Param #   \n",
            "=================================================================\n",
            "dense (Dense)                (None, 128)               1152      \n",
            "_________________________________________________________________\n",
            "dense_1 (Dense)              (None, 416)               53664     \n",
            "_________________________________________________________________\n",
            "dense_2 (Dense)              (None, 224)               93408     \n",
            "_________________________________________________________________\n",
            "dense_3 (Dense)              (None, 448)               100800    \n",
            "_________________________________________________________________\n",
            "dense_4 (Dense)              (None, 320)               143680    \n",
            "_________________________________________________________________\n",
            "dense_5 (Dense)              (None, 416)               133536    \n",
            "_________________________________________________________________\n",
            "dense_6 (Dense)              (None, 512)               213504    \n",
            "_________________________________________________________________\n",
            "dense_7 (Dense)              (None, 320)               164160    \n",
            "_________________________________________________________________\n",
            "dense_8 (Dense)              (None, 64)                20544     \n",
            "_________________________________________________________________\n",
            "dense_9 (Dense)              (None, 320)               20800     \n",
            "_________________________________________________________________\n",
            "dense_10 (Dense)             (None, 256)               82176     \n",
            "_________________________________________________________________\n",
            "dense_11 (Dense)             (None, 160)               41120     \n",
            "_________________________________________________________________\n",
            "dense_12 (Dense)             (None, 448)               72128     \n",
            "_________________________________________________________________\n",
            "dense_13 (Dense)             (None, 320)               143680    \n",
            "_________________________________________________________________\n",
            "dense_14 (Dense)             (None, 512)               164352    \n",
            "_________________________________________________________________\n",
            "dense_15 (Dense)             (None, 64)                32832     \n",
            "_________________________________________________________________\n",
            "dense_16 (Dense)             (None, 32)                2080      \n",
            "_________________________________________________________________\n",
            "dense_17 (Dense)             (None, 1)                 33        \n",
            "=================================================================\n",
            "Total params: 1,483,649\n",
            "Trainable params: 1,483,649\n",
            "Non-trainable params: 0\n",
            "_________________________________________________________________\n"
          ],
          "name": "stdout"
        }
      ]
    },
    {
      "cell_type": "code",
      "metadata": {
        "id": "67HMtizwgWSU",
        "colab": {
          "base_uri": "https://localhost:8080/"
        },
        "outputId": "e9e4423b-cf4c-48c8-dc13-3dcf7bfb7b6c"
      },
      "source": [
        "model_hist=best_model.fit(X_train, y_train, validation_split=0.2, epochs=200, initial_epoch=5)"
      ],
      "execution_count": null,
      "outputs": [
        {
          "output_type": "stream",
          "text": [
            "Epoch 6/200\n",
            "22/22 [==============================] - 2s 26ms/step - loss: 35.3599 - mean_absolute_error: 35.3599 - val_loss: 40.4892 - val_mean_absolute_error: 40.4892\n",
            "Epoch 7/200\n",
            "22/22 [==============================] - 1s 26ms/step - loss: 33.3601 - mean_absolute_error: 33.3601 - val_loss: 37.8190 - val_mean_absolute_error: 37.8190\n",
            "Epoch 8/200\n",
            "22/22 [==============================] - 1s 24ms/step - loss: 34.9237 - mean_absolute_error: 34.9237 - val_loss: 39.6538 - val_mean_absolute_error: 39.6538\n",
            "Epoch 9/200\n",
            "22/22 [==============================] - 1s 24ms/step - loss: 37.3440 - mean_absolute_error: 37.3440 - val_loss: 48.5649 - val_mean_absolute_error: 48.5649\n",
            "Epoch 10/200\n",
            "22/22 [==============================] - 1s 24ms/step - loss: 35.1027 - mean_absolute_error: 35.1027 - val_loss: 37.9327 - val_mean_absolute_error: 37.9327\n",
            "Epoch 11/200\n",
            "22/22 [==============================] - 1s 25ms/step - loss: 34.3867 - mean_absolute_error: 34.3867 - val_loss: 48.2592 - val_mean_absolute_error: 48.2592\n",
            "Epoch 12/200\n",
            "22/22 [==============================] - 1s 25ms/step - loss: 33.6295 - mean_absolute_error: 33.6295 - val_loss: 42.6929 - val_mean_absolute_error: 42.6929\n",
            "Epoch 13/200\n",
            "22/22 [==============================] - 1s 26ms/step - loss: 31.9885 - mean_absolute_error: 31.9885 - val_loss: 36.5988 - val_mean_absolute_error: 36.5988\n",
            "Epoch 14/200\n",
            "22/22 [==============================] - 1s 25ms/step - loss: 33.5614 - mean_absolute_error: 33.5614 - val_loss: 42.5400 - val_mean_absolute_error: 42.5400\n",
            "Epoch 15/200\n",
            "22/22 [==============================] - 1s 25ms/step - loss: 33.7358 - mean_absolute_error: 33.7358 - val_loss: 37.5967 - val_mean_absolute_error: 37.5967\n",
            "Epoch 16/200\n",
            "22/22 [==============================] - 1s 26ms/step - loss: 31.0550 - mean_absolute_error: 31.0550 - val_loss: 38.0223 - val_mean_absolute_error: 38.0223\n",
            "Epoch 17/200\n",
            "22/22 [==============================] - 1s 24ms/step - loss: 29.9084 - mean_absolute_error: 29.9084 - val_loss: 40.3675 - val_mean_absolute_error: 40.3675\n",
            "Epoch 18/200\n",
            "22/22 [==============================] - 1s 24ms/step - loss: 33.5413 - mean_absolute_error: 33.5413 - val_loss: 35.7434 - val_mean_absolute_error: 35.7434\n",
            "Epoch 19/200\n",
            "22/22 [==============================] - 1s 23ms/step - loss: 29.5201 - mean_absolute_error: 29.5201 - val_loss: 36.9964 - val_mean_absolute_error: 36.9964\n",
            "Epoch 20/200\n",
            "22/22 [==============================] - 1s 26ms/step - loss: 28.1849 - mean_absolute_error: 28.1849 - val_loss: 39.6863 - val_mean_absolute_error: 39.6863\n",
            "Epoch 21/200\n",
            "22/22 [==============================] - 1s 25ms/step - loss: 29.8813 - mean_absolute_error: 29.8813 - val_loss: 35.2831 - val_mean_absolute_error: 35.2831\n",
            "Epoch 22/200\n",
            "22/22 [==============================] - 1s 25ms/step - loss: 27.4651 - mean_absolute_error: 27.4651 - val_loss: 38.0576 - val_mean_absolute_error: 38.0576\n",
            "Epoch 23/200\n",
            "22/22 [==============================] - 1s 25ms/step - loss: 26.9022 - mean_absolute_error: 26.9022 - val_loss: 35.2023 - val_mean_absolute_error: 35.2023\n",
            "Epoch 24/200\n",
            "22/22 [==============================] - 1s 26ms/step - loss: 27.7912 - mean_absolute_error: 27.7912 - val_loss: 35.8100 - val_mean_absolute_error: 35.8100\n",
            "Epoch 25/200\n",
            "22/22 [==============================] - 1s 24ms/step - loss: 27.6140 - mean_absolute_error: 27.6140 - val_loss: 34.4791 - val_mean_absolute_error: 34.4791\n",
            "Epoch 26/200\n",
            "22/22 [==============================] - 1s 24ms/step - loss: 32.0584 - mean_absolute_error: 32.0584 - val_loss: 39.0396 - val_mean_absolute_error: 39.0396\n",
            "Epoch 27/200\n",
            "22/22 [==============================] - 1s 25ms/step - loss: 26.5716 - mean_absolute_error: 26.5716 - val_loss: 36.7301 - val_mean_absolute_error: 36.7301\n",
            "Epoch 28/200\n",
            "22/22 [==============================] - 1s 25ms/step - loss: 25.2595 - mean_absolute_error: 25.2595 - val_loss: 34.6033 - val_mean_absolute_error: 34.6033\n",
            "Epoch 29/200\n",
            "22/22 [==============================] - 1s 25ms/step - loss: 25.6302 - mean_absolute_error: 25.6302 - val_loss: 35.2006 - val_mean_absolute_error: 35.2006\n",
            "Epoch 30/200\n",
            "22/22 [==============================] - 1s 24ms/step - loss: 37.0984 - mean_absolute_error: 37.0984 - val_loss: 44.3377 - val_mean_absolute_error: 44.3377\n",
            "Epoch 31/200\n",
            "22/22 [==============================] - 1s 25ms/step - loss: 30.2743 - mean_absolute_error: 30.2743 - val_loss: 34.9425 - val_mean_absolute_error: 34.9425\n",
            "Epoch 32/200\n",
            "22/22 [==============================] - 1s 26ms/step - loss: 30.4113 - mean_absolute_error: 30.4113 - val_loss: 41.5521 - val_mean_absolute_error: 41.5521\n",
            "Epoch 33/200\n",
            "22/22 [==============================] - 1s 25ms/step - loss: 27.0059 - mean_absolute_error: 27.0059 - val_loss: 33.2145 - val_mean_absolute_error: 33.2145\n",
            "Epoch 34/200\n",
            "22/22 [==============================] - 1s 24ms/step - loss: 24.6841 - mean_absolute_error: 24.6841 - val_loss: 37.8025 - val_mean_absolute_error: 37.8025\n",
            "Epoch 35/200\n",
            "22/22 [==============================] - 1s 26ms/step - loss: 25.5229 - mean_absolute_error: 25.5229 - val_loss: 35.1191 - val_mean_absolute_error: 35.1191\n",
            "Epoch 36/200\n",
            "22/22 [==============================] - 1s 24ms/step - loss: 24.0446 - mean_absolute_error: 24.0446 - val_loss: 40.7069 - val_mean_absolute_error: 40.7069\n",
            "Epoch 37/200\n",
            "22/22 [==============================] - 1s 26ms/step - loss: 27.5150 - mean_absolute_error: 27.5150 - val_loss: 34.7909 - val_mean_absolute_error: 34.7909\n",
            "Epoch 38/200\n",
            "22/22 [==============================] - 1s 26ms/step - loss: 23.6377 - mean_absolute_error: 23.6377 - val_loss: 33.2661 - val_mean_absolute_error: 33.2661\n",
            "Epoch 39/200\n",
            "22/22 [==============================] - 1s 23ms/step - loss: 22.7839 - mean_absolute_error: 22.7839 - val_loss: 32.9149 - val_mean_absolute_error: 32.9149\n",
            "Epoch 40/200\n",
            "22/22 [==============================] - 1s 25ms/step - loss: 24.3521 - mean_absolute_error: 24.3521 - val_loss: 44.2089 - val_mean_absolute_error: 44.2089\n",
            "Epoch 41/200\n",
            "22/22 [==============================] - 1s 25ms/step - loss: 23.7922 - mean_absolute_error: 23.7922 - val_loss: 32.8271 - val_mean_absolute_error: 32.8271\n",
            "Epoch 42/200\n",
            "22/22 [==============================] - 1s 24ms/step - loss: 22.5681 - mean_absolute_error: 22.5681 - val_loss: 33.5627 - val_mean_absolute_error: 33.5627\n",
            "Epoch 43/200\n",
            "22/22 [==============================] - 1s 25ms/step - loss: 24.3958 - mean_absolute_error: 24.3958 - val_loss: 33.6756 - val_mean_absolute_error: 33.6756\n",
            "Epoch 44/200\n",
            "22/22 [==============================] - 1s 24ms/step - loss: 21.8621 - mean_absolute_error: 21.8621 - val_loss: 34.1505 - val_mean_absolute_error: 34.1505\n",
            "Epoch 45/200\n",
            "22/22 [==============================] - 1s 23ms/step - loss: 22.4138 - mean_absolute_error: 22.4138 - val_loss: 38.0731 - val_mean_absolute_error: 38.0731\n",
            "Epoch 46/200\n",
            "22/22 [==============================] - 1s 25ms/step - loss: 23.3578 - mean_absolute_error: 23.3578 - val_loss: 35.2340 - val_mean_absolute_error: 35.2340\n",
            "Epoch 47/200\n",
            "22/22 [==============================] - 1s 26ms/step - loss: 22.5659 - mean_absolute_error: 22.5659 - val_loss: 39.3373 - val_mean_absolute_error: 39.3373\n",
            "Epoch 48/200\n",
            "22/22 [==============================] - 1s 25ms/step - loss: 21.5554 - mean_absolute_error: 21.5554 - val_loss: 31.3362 - val_mean_absolute_error: 31.3362\n",
            "Epoch 49/200\n",
            "22/22 [==============================] - 1s 27ms/step - loss: 18.9379 - mean_absolute_error: 18.9379 - val_loss: 32.1720 - val_mean_absolute_error: 32.1720\n",
            "Epoch 50/200\n",
            "22/22 [==============================] - 1s 25ms/step - loss: 18.0583 - mean_absolute_error: 18.0583 - val_loss: 31.2303 - val_mean_absolute_error: 31.2303\n",
            "Epoch 51/200\n",
            "22/22 [==============================] - 1s 24ms/step - loss: 20.8819 - mean_absolute_error: 20.8819 - val_loss: 33.7849 - val_mean_absolute_error: 33.7849\n",
            "Epoch 52/200\n",
            "22/22 [==============================] - 1s 24ms/step - loss: 19.9810 - mean_absolute_error: 19.9810 - val_loss: 32.6075 - val_mean_absolute_error: 32.6075\n",
            "Epoch 53/200\n",
            "22/22 [==============================] - 1s 26ms/step - loss: 20.5026 - mean_absolute_error: 20.5026 - val_loss: 35.0823 - val_mean_absolute_error: 35.0823\n",
            "Epoch 54/200\n",
            "22/22 [==============================] - 1s 24ms/step - loss: 20.0904 - mean_absolute_error: 20.0904 - val_loss: 30.7389 - val_mean_absolute_error: 30.7389\n",
            "Epoch 55/200\n",
            "22/22 [==============================] - 1s 24ms/step - loss: 20.5925 - mean_absolute_error: 20.5925 - val_loss: 31.5248 - val_mean_absolute_error: 31.5248\n",
            "Epoch 56/200\n",
            "22/22 [==============================] - 1s 24ms/step - loss: 20.6779 - mean_absolute_error: 20.6779 - val_loss: 33.4858 - val_mean_absolute_error: 33.4858\n",
            "Epoch 57/200\n",
            "22/22 [==============================] - 1s 26ms/step - loss: 22.6273 - mean_absolute_error: 22.6273 - val_loss: 35.1878 - val_mean_absolute_error: 35.1878\n",
            "Epoch 58/200\n",
            "22/22 [==============================] - 1s 25ms/step - loss: 25.6622 - mean_absolute_error: 25.6622 - val_loss: 34.7963 - val_mean_absolute_error: 34.7963\n",
            "Epoch 59/200\n",
            "22/22 [==============================] - 1s 28ms/step - loss: 21.2759 - mean_absolute_error: 21.2759 - val_loss: 41.2899 - val_mean_absolute_error: 41.2899\n",
            "Epoch 60/200\n",
            "22/22 [==============================] - 1s 25ms/step - loss: 20.6645 - mean_absolute_error: 20.6645 - val_loss: 31.0390 - val_mean_absolute_error: 31.0390\n",
            "Epoch 61/200\n",
            "22/22 [==============================] - 1s 24ms/step - loss: 16.6017 - mean_absolute_error: 16.6017 - val_loss: 29.8139 - val_mean_absolute_error: 29.8139\n",
            "Epoch 62/200\n",
            "22/22 [==============================] - 1s 24ms/step - loss: 16.3648 - mean_absolute_error: 16.3648 - val_loss: 31.6486 - val_mean_absolute_error: 31.6486\n",
            "Epoch 63/200\n",
            "22/22 [==============================] - 1s 26ms/step - loss: 18.3098 - mean_absolute_error: 18.3098 - val_loss: 29.0559 - val_mean_absolute_error: 29.0559\n",
            "Epoch 64/200\n",
            "22/22 [==============================] - 1s 25ms/step - loss: 17.3781 - mean_absolute_error: 17.3781 - val_loss: 29.9713 - val_mean_absolute_error: 29.9713\n",
            "Epoch 65/200\n",
            "22/22 [==============================] - 1s 27ms/step - loss: 21.0186 - mean_absolute_error: 21.0186 - val_loss: 38.4418 - val_mean_absolute_error: 38.4418\n",
            "Epoch 66/200\n",
            "22/22 [==============================] - 1s 26ms/step - loss: 20.2387 - mean_absolute_error: 20.2387 - val_loss: 32.3587 - val_mean_absolute_error: 32.3587\n",
            "Epoch 67/200\n",
            "22/22 [==============================] - 1s 24ms/step - loss: 15.9267 - mean_absolute_error: 15.9267 - val_loss: 28.3921 - val_mean_absolute_error: 28.3921\n",
            "Epoch 68/200\n",
            "22/22 [==============================] - 1s 27ms/step - loss: 14.6949 - mean_absolute_error: 14.6949 - val_loss: 29.0469 - val_mean_absolute_error: 29.0469\n",
            "Epoch 69/200\n",
            "22/22 [==============================] - 1s 25ms/step - loss: 16.5953 - mean_absolute_error: 16.5953 - val_loss: 29.7056 - val_mean_absolute_error: 29.7056\n",
            "Epoch 70/200\n",
            "22/22 [==============================] - 1s 26ms/step - loss: 14.3623 - mean_absolute_error: 14.3623 - val_loss: 29.6018 - val_mean_absolute_error: 29.6018\n",
            "Epoch 71/200\n",
            "22/22 [==============================] - 1s 26ms/step - loss: 15.3904 - mean_absolute_error: 15.3904 - val_loss: 29.9956 - val_mean_absolute_error: 29.9956\n",
            "Epoch 72/200\n",
            "22/22 [==============================] - 1s 25ms/step - loss: 19.5532 - mean_absolute_error: 19.5532 - val_loss: 31.9671 - val_mean_absolute_error: 31.9671\n",
            "Epoch 73/200\n",
            "22/22 [==============================] - 1s 24ms/step - loss: 17.0485 - mean_absolute_error: 17.0485 - val_loss: 30.8340 - val_mean_absolute_error: 30.8340\n",
            "Epoch 74/200\n",
            "22/22 [==============================] - 1s 27ms/step - loss: 17.6231 - mean_absolute_error: 17.6231 - val_loss: 29.9346 - val_mean_absolute_error: 29.9346\n",
            "Epoch 75/200\n",
            "22/22 [==============================] - 1s 28ms/step - loss: 24.6181 - mean_absolute_error: 24.6181 - val_loss: 33.1036 - val_mean_absolute_error: 33.1036\n",
            "Epoch 76/200\n",
            "22/22 [==============================] - 1s 25ms/step - loss: 24.9596 - mean_absolute_error: 24.9596 - val_loss: 31.1320 - val_mean_absolute_error: 31.1320\n",
            "Epoch 77/200\n",
            "22/22 [==============================] - 1s 27ms/step - loss: 21.4862 - mean_absolute_error: 21.4862 - val_loss: 29.4106 - val_mean_absolute_error: 29.4106\n",
            "Epoch 78/200\n",
            "22/22 [==============================] - 1s 26ms/step - loss: 17.5735 - mean_absolute_error: 17.5735 - val_loss: 29.7154 - val_mean_absolute_error: 29.7154\n",
            "Epoch 79/200\n",
            "22/22 [==============================] - 1s 26ms/step - loss: 15.9823 - mean_absolute_error: 15.9823 - val_loss: 27.5503 - val_mean_absolute_error: 27.5503\n",
            "Epoch 80/200\n",
            "22/22 [==============================] - 1s 27ms/step - loss: 14.0570 - mean_absolute_error: 14.0570 - val_loss: 29.2291 - val_mean_absolute_error: 29.2291\n",
            "Epoch 81/200\n",
            "22/22 [==============================] - 1s 26ms/step - loss: 16.3094 - mean_absolute_error: 16.3094 - val_loss: 28.2941 - val_mean_absolute_error: 28.2941\n",
            "Epoch 82/200\n",
            "22/22 [==============================] - 1s 27ms/step - loss: 16.0645 - mean_absolute_error: 16.0645 - val_loss: 26.7564 - val_mean_absolute_error: 26.7564\n",
            "Epoch 83/200\n",
            "22/22 [==============================] - 1s 26ms/step - loss: 14.7356 - mean_absolute_error: 14.7356 - val_loss: 31.5218 - val_mean_absolute_error: 31.5218\n",
            "Epoch 84/200\n",
            "22/22 [==============================] - 1s 26ms/step - loss: 15.1176 - mean_absolute_error: 15.1176 - val_loss: 27.8563 - val_mean_absolute_error: 27.8563\n",
            "Epoch 85/200\n",
            "22/22 [==============================] - 1s 26ms/step - loss: 13.5133 - mean_absolute_error: 13.5133 - val_loss: 27.7073 - val_mean_absolute_error: 27.7073\n",
            "Epoch 86/200\n",
            "22/22 [==============================] - 1s 25ms/step - loss: 14.6564 - mean_absolute_error: 14.6564 - val_loss: 30.5428 - val_mean_absolute_error: 30.5428\n",
            "Epoch 87/200\n",
            "22/22 [==============================] - 1s 25ms/step - loss: 18.6356 - mean_absolute_error: 18.6356 - val_loss: 28.3961 - val_mean_absolute_error: 28.3961\n",
            "Epoch 88/200\n",
            "22/22 [==============================] - 1s 26ms/step - loss: 15.8413 - mean_absolute_error: 15.8413 - val_loss: 28.4076 - val_mean_absolute_error: 28.4076\n",
            "Epoch 89/200\n",
            "22/22 [==============================] - 1s 25ms/step - loss: 13.2725 - mean_absolute_error: 13.2725 - val_loss: 30.9278 - val_mean_absolute_error: 30.9278\n",
            "Epoch 90/200\n",
            "22/22 [==============================] - 1s 24ms/step - loss: 16.1325 - mean_absolute_error: 16.1325 - val_loss: 28.0566 - val_mean_absolute_error: 28.0566\n",
            "Epoch 91/200\n",
            "22/22 [==============================] - 1s 25ms/step - loss: 13.9901 - mean_absolute_error: 13.9901 - val_loss: 26.2024 - val_mean_absolute_error: 26.2024\n",
            "Epoch 92/200\n",
            "22/22 [==============================] - 1s 25ms/step - loss: 18.1354 - mean_absolute_error: 18.1354 - val_loss: 42.5170 - val_mean_absolute_error: 42.5170\n",
            "Epoch 93/200\n",
            "22/22 [==============================] - 1s 24ms/step - loss: 20.2159 - mean_absolute_error: 20.2159 - val_loss: 28.8777 - val_mean_absolute_error: 28.8777\n",
            "Epoch 94/200\n",
            "22/22 [==============================] - 1s 25ms/step - loss: 21.3391 - mean_absolute_error: 21.3391 - val_loss: 32.8120 - val_mean_absolute_error: 32.8120\n",
            "Epoch 95/200\n",
            "22/22 [==============================] - 1s 27ms/step - loss: 18.7455 - mean_absolute_error: 18.7455 - val_loss: 27.1615 - val_mean_absolute_error: 27.1615\n",
            "Epoch 96/200\n",
            "22/22 [==============================] - 1s 24ms/step - loss: 15.6805 - mean_absolute_error: 15.6805 - val_loss: 30.5905 - val_mean_absolute_error: 30.5905\n",
            "Epoch 97/200\n",
            "22/22 [==============================] - 1s 25ms/step - loss: 17.8398 - mean_absolute_error: 17.8398 - val_loss: 29.4997 - val_mean_absolute_error: 29.4997\n",
            "Epoch 98/200\n",
            "22/22 [==============================] - 1s 26ms/step - loss: 18.2970 - mean_absolute_error: 18.2970 - val_loss: 29.3500 - val_mean_absolute_error: 29.3500\n",
            "Epoch 99/200\n",
            "22/22 [==============================] - 1s 26ms/step - loss: 14.2979 - mean_absolute_error: 14.2979 - val_loss: 26.8894 - val_mean_absolute_error: 26.8894\n",
            "Epoch 100/200\n",
            "22/22 [==============================] - 1s 25ms/step - loss: 12.2155 - mean_absolute_error: 12.2155 - val_loss: 28.5258 - val_mean_absolute_error: 28.5258\n",
            "Epoch 101/200\n",
            "22/22 [==============================] - 1s 25ms/step - loss: 11.0936 - mean_absolute_error: 11.0936 - val_loss: 31.9540 - val_mean_absolute_error: 31.9540\n",
            "Epoch 102/200\n",
            "22/22 [==============================] - 1s 27ms/step - loss: 14.7193 - mean_absolute_error: 14.7193 - val_loss: 34.8228 - val_mean_absolute_error: 34.8228\n",
            "Epoch 103/200\n",
            "22/22 [==============================] - 1s 25ms/step - loss: 14.1043 - mean_absolute_error: 14.1043 - val_loss: 30.0831 - val_mean_absolute_error: 30.0831\n",
            "Epoch 104/200\n",
            "22/22 [==============================] - 1s 25ms/step - loss: 12.0771 - mean_absolute_error: 12.0771 - val_loss: 27.2210 - val_mean_absolute_error: 27.2210\n",
            "Epoch 105/200\n",
            "22/22 [==============================] - 1s 25ms/step - loss: 12.7181 - mean_absolute_error: 12.7181 - val_loss: 30.9642 - val_mean_absolute_error: 30.9642\n",
            "Epoch 106/200\n",
            "22/22 [==============================] - 1s 25ms/step - loss: 13.9992 - mean_absolute_error: 13.9992 - val_loss: 27.9103 - val_mean_absolute_error: 27.9103\n",
            "Epoch 107/200\n",
            "22/22 [==============================] - 1s 26ms/step - loss: 12.7247 - mean_absolute_error: 12.7247 - val_loss: 30.9634 - val_mean_absolute_error: 30.9634\n",
            "Epoch 108/200\n",
            "22/22 [==============================] - 1s 25ms/step - loss: 13.9418 - mean_absolute_error: 13.9418 - val_loss: 30.9841 - val_mean_absolute_error: 30.9841\n",
            "Epoch 109/200\n",
            "22/22 [==============================] - 1s 25ms/step - loss: 16.2266 - mean_absolute_error: 16.2266 - val_loss: 26.5071 - val_mean_absolute_error: 26.5071\n",
            "Epoch 110/200\n",
            "22/22 [==============================] - 1s 24ms/step - loss: 12.3327 - mean_absolute_error: 12.3327 - val_loss: 25.2844 - val_mean_absolute_error: 25.2844\n",
            "Epoch 111/200\n",
            "22/22 [==============================] - 1s 25ms/step - loss: 12.8529 - mean_absolute_error: 12.8529 - val_loss: 27.0804 - val_mean_absolute_error: 27.0804\n",
            "Epoch 112/200\n",
            "22/22 [==============================] - 1s 27ms/step - loss: 9.8803 - mean_absolute_error: 9.8803 - val_loss: 25.0938 - val_mean_absolute_error: 25.0938\n",
            "Epoch 113/200\n",
            "22/22 [==============================] - 1s 26ms/step - loss: 10.4318 - mean_absolute_error: 10.4318 - val_loss: 29.1015 - val_mean_absolute_error: 29.1015\n",
            "Epoch 114/200\n",
            "22/22 [==============================] - 1s 25ms/step - loss: 10.4176 - mean_absolute_error: 10.4176 - val_loss: 26.1147 - val_mean_absolute_error: 26.1147\n",
            "Epoch 115/200\n",
            "22/22 [==============================] - 1s 25ms/step - loss: 12.3601 - mean_absolute_error: 12.3601 - val_loss: 26.4177 - val_mean_absolute_error: 26.4177\n",
            "Epoch 116/200\n",
            "22/22 [==============================] - 1s 26ms/step - loss: 11.6400 - mean_absolute_error: 11.6400 - val_loss: 27.2882 - val_mean_absolute_error: 27.2882\n",
            "Epoch 117/200\n",
            "22/22 [==============================] - 1s 25ms/step - loss: 11.1881 - mean_absolute_error: 11.1881 - val_loss: 28.1088 - val_mean_absolute_error: 28.1088\n",
            "Epoch 118/200\n",
            "22/22 [==============================] - 1s 25ms/step - loss: 11.5758 - mean_absolute_error: 11.5758 - val_loss: 25.6091 - val_mean_absolute_error: 25.6091\n",
            "Epoch 119/200\n",
            "22/22 [==============================] - 1s 26ms/step - loss: 10.6301 - mean_absolute_error: 10.6301 - val_loss: 26.8730 - val_mean_absolute_error: 26.8730\n",
            "Epoch 120/200\n",
            "22/22 [==============================] - 1s 24ms/step - loss: 12.2542 - mean_absolute_error: 12.2542 - val_loss: 29.6082 - val_mean_absolute_error: 29.6082\n",
            "Epoch 121/200\n",
            "22/22 [==============================] - 1s 26ms/step - loss: 11.9060 - mean_absolute_error: 11.9060 - val_loss: 27.8780 - val_mean_absolute_error: 27.8780\n",
            "Epoch 122/200\n",
            "22/22 [==============================] - 1s 25ms/step - loss: 11.3511 - mean_absolute_error: 11.3511 - val_loss: 27.2117 - val_mean_absolute_error: 27.2117\n",
            "Epoch 123/200\n",
            "22/22 [==============================] - 1s 25ms/step - loss: 11.7048 - mean_absolute_error: 11.7048 - val_loss: 29.9197 - val_mean_absolute_error: 29.9197\n",
            "Epoch 124/200\n",
            "22/22 [==============================] - 1s 26ms/step - loss: 10.5001 - mean_absolute_error: 10.5001 - val_loss: 25.3178 - val_mean_absolute_error: 25.3178\n",
            "Epoch 125/200\n",
            "22/22 [==============================] - 1s 25ms/step - loss: 14.7565 - mean_absolute_error: 14.7565 - val_loss: 33.2484 - val_mean_absolute_error: 33.2484\n",
            "Epoch 126/200\n",
            "22/22 [==============================] - 1s 25ms/step - loss: 18.0407 - mean_absolute_error: 18.0407 - val_loss: 27.5045 - val_mean_absolute_error: 27.5045\n",
            "Epoch 127/200\n",
            "22/22 [==============================] - 1s 25ms/step - loss: 11.3709 - mean_absolute_error: 11.3709 - val_loss: 26.2309 - val_mean_absolute_error: 26.2309\n",
            "Epoch 128/200\n",
            "22/22 [==============================] - 1s 25ms/step - loss: 10.2363 - mean_absolute_error: 10.2363 - val_loss: 27.2325 - val_mean_absolute_error: 27.2325\n",
            "Epoch 129/200\n",
            "22/22 [==============================] - 1s 24ms/step - loss: 9.4096 - mean_absolute_error: 9.4096 - val_loss: 25.3831 - val_mean_absolute_error: 25.3831\n",
            "Epoch 130/200\n",
            "22/22 [==============================] - 1s 25ms/step - loss: 9.5643 - mean_absolute_error: 9.5643 - val_loss: 26.1881 - val_mean_absolute_error: 26.1881\n",
            "Epoch 131/200\n",
            "22/22 [==============================] - 1s 25ms/step - loss: 7.9318 - mean_absolute_error: 7.9318 - val_loss: 26.2172 - val_mean_absolute_error: 26.2172\n",
            "Epoch 132/200\n",
            "22/22 [==============================] - 1s 27ms/step - loss: 12.9523 - mean_absolute_error: 12.9523 - val_loss: 32.1627 - val_mean_absolute_error: 32.1627\n",
            "Epoch 133/200\n",
            "22/22 [==============================] - 1s 27ms/step - loss: 11.2431 - mean_absolute_error: 11.2431 - val_loss: 27.1030 - val_mean_absolute_error: 27.1030\n",
            "Epoch 134/200\n",
            "22/22 [==============================] - 1s 25ms/step - loss: 10.9865 - mean_absolute_error: 10.9865 - val_loss: 27.1627 - val_mean_absolute_error: 27.1627\n",
            "Epoch 135/200\n",
            "22/22 [==============================] - 1s 25ms/step - loss: 11.5818 - mean_absolute_error: 11.5818 - val_loss: 27.6720 - val_mean_absolute_error: 27.6720\n",
            "Epoch 136/200\n",
            "22/22 [==============================] - 1s 25ms/step - loss: 9.1342 - mean_absolute_error: 9.1342 - val_loss: 28.3173 - val_mean_absolute_error: 28.3173\n",
            "Epoch 137/200\n",
            "22/22 [==============================] - 1s 24ms/step - loss: 9.0649 - mean_absolute_error: 9.0649 - val_loss: 25.6382 - val_mean_absolute_error: 25.6382\n",
            "Epoch 138/200\n",
            "22/22 [==============================] - 1s 25ms/step - loss: 8.8437 - mean_absolute_error: 8.8437 - val_loss: 28.2128 - val_mean_absolute_error: 28.2128\n",
            "Epoch 139/200\n",
            "22/22 [==============================] - 1s 24ms/step - loss: 12.2933 - mean_absolute_error: 12.2933 - val_loss: 28.5083 - val_mean_absolute_error: 28.5083\n",
            "Epoch 140/200\n",
            "22/22 [==============================] - 1s 26ms/step - loss: 10.2487 - mean_absolute_error: 10.2487 - val_loss: 27.7495 - val_mean_absolute_error: 27.7495\n",
            "Epoch 141/200\n",
            "22/22 [==============================] - 1s 25ms/step - loss: 9.4142 - mean_absolute_error: 9.4142 - val_loss: 27.5785 - val_mean_absolute_error: 27.5785\n",
            "Epoch 142/200\n",
            "22/22 [==============================] - 1s 25ms/step - loss: 7.4227 - mean_absolute_error: 7.4227 - val_loss: 26.6277 - val_mean_absolute_error: 26.6277\n",
            "Epoch 143/200\n",
            "22/22 [==============================] - 1s 27ms/step - loss: 7.9994 - mean_absolute_error: 7.9994 - val_loss: 26.3883 - val_mean_absolute_error: 26.3883\n",
            "Epoch 144/200\n",
            "22/22 [==============================] - 1s 25ms/step - loss: 11.1774 - mean_absolute_error: 11.1774 - val_loss: 28.2908 - val_mean_absolute_error: 28.2908\n",
            "Epoch 145/200\n",
            "22/22 [==============================] - 1s 28ms/step - loss: 8.4438 - mean_absolute_error: 8.4438 - val_loss: 25.6871 - val_mean_absolute_error: 25.6871\n",
            "Epoch 146/200\n",
            "22/22 [==============================] - 1s 25ms/step - loss: 9.0796 - mean_absolute_error: 9.0796 - val_loss: 25.4231 - val_mean_absolute_error: 25.4231\n",
            "Epoch 147/200\n",
            "22/22 [==============================] - 1s 25ms/step - loss: 8.3878 - mean_absolute_error: 8.3878 - val_loss: 26.2026 - val_mean_absolute_error: 26.2026\n",
            "Epoch 148/200\n",
            "22/22 [==============================] - 1s 24ms/step - loss: 8.3704 - mean_absolute_error: 8.3704 - val_loss: 28.2400 - val_mean_absolute_error: 28.2400\n",
            "Epoch 149/200\n",
            "22/22 [==============================] - 1s 27ms/step - loss: 9.1938 - mean_absolute_error: 9.1938 - val_loss: 30.4096 - val_mean_absolute_error: 30.4096\n",
            "Epoch 150/200\n",
            "22/22 [==============================] - 1s 24ms/step - loss: 9.8189 - mean_absolute_error: 9.8189 - val_loss: 28.4453 - val_mean_absolute_error: 28.4453\n",
            "Epoch 151/200\n",
            "22/22 [==============================] - 1s 26ms/step - loss: 9.6148 - mean_absolute_error: 9.6148 - val_loss: 27.1415 - val_mean_absolute_error: 27.1415\n",
            "Epoch 152/200\n",
            "22/22 [==============================] - 1s 25ms/step - loss: 9.3412 - mean_absolute_error: 9.3412 - val_loss: 25.8059 - val_mean_absolute_error: 25.8059\n",
            "Epoch 153/200\n",
            "22/22 [==============================] - 1s 25ms/step - loss: 9.0381 - mean_absolute_error: 9.0381 - val_loss: 28.9358 - val_mean_absolute_error: 28.9358\n",
            "Epoch 154/200\n",
            "22/22 [==============================] - 1s 26ms/step - loss: 12.5623 - mean_absolute_error: 12.5623 - val_loss: 28.4575 - val_mean_absolute_error: 28.4575\n",
            "Epoch 155/200\n",
            "22/22 [==============================] - 1s 27ms/step - loss: 9.2855 - mean_absolute_error: 9.2855 - val_loss: 26.4309 - val_mean_absolute_error: 26.4309\n",
            "Epoch 156/200\n",
            "22/22 [==============================] - 1s 26ms/step - loss: 8.7311 - mean_absolute_error: 8.7311 - val_loss: 26.9868 - val_mean_absolute_error: 26.9868\n",
            "Epoch 157/200\n",
            "22/22 [==============================] - 1s 24ms/step - loss: 9.8034 - mean_absolute_error: 9.8034 - val_loss: 28.8299 - val_mean_absolute_error: 28.8299\n",
            "Epoch 158/200\n",
            "22/22 [==============================] - 1s 26ms/step - loss: 7.5686 - mean_absolute_error: 7.5686 - val_loss: 27.5973 - val_mean_absolute_error: 27.5973\n",
            "Epoch 159/200\n",
            "22/22 [==============================] - 1s 25ms/step - loss: 9.5132 - mean_absolute_error: 9.5132 - val_loss: 28.4710 - val_mean_absolute_error: 28.4710\n",
            "Epoch 160/200\n",
            "22/22 [==============================] - 1s 25ms/step - loss: 10.5933 - mean_absolute_error: 10.5933 - val_loss: 25.8797 - val_mean_absolute_error: 25.8797\n",
            "Epoch 161/200\n",
            "22/22 [==============================] - 1s 25ms/step - loss: 6.8703 - mean_absolute_error: 6.8703 - val_loss: 28.4432 - val_mean_absolute_error: 28.4432\n",
            "Epoch 162/200\n",
            "22/22 [==============================] - 1s 25ms/step - loss: 7.4404 - mean_absolute_error: 7.4404 - val_loss: 30.8995 - val_mean_absolute_error: 30.8995\n",
            "Epoch 163/200\n",
            "22/22 [==============================] - 1s 27ms/step - loss: 10.0906 - mean_absolute_error: 10.0906 - val_loss: 27.2315 - val_mean_absolute_error: 27.2315\n",
            "Epoch 164/200\n",
            "22/22 [==============================] - 1s 25ms/step - loss: 9.9198 - mean_absolute_error: 9.9198 - val_loss: 34.1290 - val_mean_absolute_error: 34.1290\n",
            "Epoch 165/200\n",
            "22/22 [==============================] - 1s 26ms/step - loss: 14.3236 - mean_absolute_error: 14.3236 - val_loss: 27.2982 - val_mean_absolute_error: 27.2982\n",
            "Epoch 166/200\n",
            "22/22 [==============================] - 1s 25ms/step - loss: 8.2276 - mean_absolute_error: 8.2276 - val_loss: 27.8492 - val_mean_absolute_error: 27.8492\n",
            "Epoch 167/200\n",
            "22/22 [==============================] - 1s 27ms/step - loss: 7.6048 - mean_absolute_error: 7.6048 - val_loss: 26.2859 - val_mean_absolute_error: 26.2859\n",
            "Epoch 168/200\n",
            "22/22 [==============================] - 1s 25ms/step - loss: 7.1365 - mean_absolute_error: 7.1365 - val_loss: 27.4653 - val_mean_absolute_error: 27.4653\n",
            "Epoch 169/200\n",
            "22/22 [==============================] - 1s 26ms/step - loss: 7.5865 - mean_absolute_error: 7.5865 - val_loss: 26.3120 - val_mean_absolute_error: 26.3120\n",
            "Epoch 170/200\n",
            "22/22 [==============================] - 1s 28ms/step - loss: 7.6833 - mean_absolute_error: 7.6833 - val_loss: 27.6966 - val_mean_absolute_error: 27.6966\n",
            "Epoch 171/200\n",
            "22/22 [==============================] - 1s 25ms/step - loss: 9.4763 - mean_absolute_error: 9.4763 - val_loss: 27.0952 - val_mean_absolute_error: 27.0952\n",
            "Epoch 172/200\n",
            "22/22 [==============================] - 1s 25ms/step - loss: 8.4946 - mean_absolute_error: 8.4946 - val_loss: 29.2635 - val_mean_absolute_error: 29.2635\n",
            "Epoch 173/200\n",
            "22/22 [==============================] - 1s 25ms/step - loss: 7.4620 - mean_absolute_error: 7.4620 - val_loss: 26.0970 - val_mean_absolute_error: 26.0970\n",
            "Epoch 174/200\n",
            "22/22 [==============================] - 1s 27ms/step - loss: 7.7579 - mean_absolute_error: 7.7579 - val_loss: 27.2285 - val_mean_absolute_error: 27.2285\n",
            "Epoch 175/200\n",
            "22/22 [==============================] - 1s 26ms/step - loss: 8.4692 - mean_absolute_error: 8.4692 - val_loss: 28.5871 - val_mean_absolute_error: 28.5871\n",
            "Epoch 176/200\n",
            "22/22 [==============================] - 1s 26ms/step - loss: 8.7810 - mean_absolute_error: 8.7810 - val_loss: 27.8079 - val_mean_absolute_error: 27.8079\n",
            "Epoch 177/200\n",
            "22/22 [==============================] - 1s 25ms/step - loss: 6.6373 - mean_absolute_error: 6.6373 - val_loss: 27.4808 - val_mean_absolute_error: 27.4808\n",
            "Epoch 178/200\n",
            "22/22 [==============================] - 1s 25ms/step - loss: 7.9411 - mean_absolute_error: 7.9411 - val_loss: 28.6404 - val_mean_absolute_error: 28.6404\n",
            "Epoch 179/200\n",
            "22/22 [==============================] - 1s 26ms/step - loss: 6.6666 - mean_absolute_error: 6.6666 - val_loss: 28.1789 - val_mean_absolute_error: 28.1789\n",
            "Epoch 180/200\n",
            "22/22 [==============================] - 1s 27ms/step - loss: 6.5019 - mean_absolute_error: 6.5019 - val_loss: 27.1824 - val_mean_absolute_error: 27.1824\n",
            "Epoch 181/200\n",
            "22/22 [==============================] - 1s 26ms/step - loss: 6.0562 - mean_absolute_error: 6.0562 - val_loss: 26.4142 - val_mean_absolute_error: 26.4142\n",
            "Epoch 182/200\n",
            "22/22 [==============================] - 1s 25ms/step - loss: 5.9208 - mean_absolute_error: 5.9208 - val_loss: 28.4301 - val_mean_absolute_error: 28.4301\n",
            "Epoch 183/200\n",
            "22/22 [==============================] - 1s 26ms/step - loss: 6.9802 - mean_absolute_error: 6.9802 - val_loss: 25.7804 - val_mean_absolute_error: 25.7804\n",
            "Epoch 184/200\n",
            "22/22 [==============================] - 1s 27ms/step - loss: 6.5701 - mean_absolute_error: 6.5701 - val_loss: 29.1938 - val_mean_absolute_error: 29.1938\n",
            "Epoch 185/200\n",
            "22/22 [==============================] - 1s 27ms/step - loss: 8.6454 - mean_absolute_error: 8.6454 - val_loss: 25.7716 - val_mean_absolute_error: 25.7716\n",
            "Epoch 186/200\n",
            "22/22 [==============================] - 1s 27ms/step - loss: 6.1468 - mean_absolute_error: 6.1468 - val_loss: 26.8469 - val_mean_absolute_error: 26.8469\n",
            "Epoch 187/200\n",
            "22/22 [==============================] - 1s 26ms/step - loss: 7.4820 - mean_absolute_error: 7.4820 - val_loss: 29.7709 - val_mean_absolute_error: 29.7709\n",
            "Epoch 188/200\n",
            "22/22 [==============================] - 1s 26ms/step - loss: 7.8085 - mean_absolute_error: 7.8085 - val_loss: 27.4349 - val_mean_absolute_error: 27.4349\n",
            "Epoch 189/200\n",
            "22/22 [==============================] - 1s 27ms/step - loss: 7.3364 - mean_absolute_error: 7.3364 - val_loss: 31.0119 - val_mean_absolute_error: 31.0119\n",
            "Epoch 190/200\n",
            "22/22 [==============================] - 1s 26ms/step - loss: 10.1340 - mean_absolute_error: 10.1340 - val_loss: 28.4609 - val_mean_absolute_error: 28.4609\n",
            "Epoch 191/200\n",
            "22/22 [==============================] - 1s 26ms/step - loss: 8.3322 - mean_absolute_error: 8.3322 - val_loss: 27.0916 - val_mean_absolute_error: 27.0916\n",
            "Epoch 192/200\n",
            "22/22 [==============================] - 1s 26ms/step - loss: 7.6003 - mean_absolute_error: 7.6003 - val_loss: 26.2596 - val_mean_absolute_error: 26.2596\n",
            "Epoch 193/200\n",
            "22/22 [==============================] - 1s 26ms/step - loss: 6.9961 - mean_absolute_error: 6.9961 - val_loss: 28.8615 - val_mean_absolute_error: 28.8615\n",
            "Epoch 194/200\n",
            "22/22 [==============================] - 1s 26ms/step - loss: 7.4303 - mean_absolute_error: 7.4303 - val_loss: 26.4659 - val_mean_absolute_error: 26.4659\n",
            "Epoch 195/200\n",
            "22/22 [==============================] - 1s 27ms/step - loss: 7.5525 - mean_absolute_error: 7.5525 - val_loss: 28.5732 - val_mean_absolute_error: 28.5732\n",
            "Epoch 196/200\n",
            "22/22 [==============================] - 1s 26ms/step - loss: 9.6743 - mean_absolute_error: 9.6743 - val_loss: 28.4024 - val_mean_absolute_error: 28.4024\n",
            "Epoch 197/200\n",
            "22/22 [==============================] - 1s 27ms/step - loss: 6.5790 - mean_absolute_error: 6.5790 - val_loss: 26.1934 - val_mean_absolute_error: 26.1934\n",
            "Epoch 198/200\n",
            "22/22 [==============================] - 1s 27ms/step - loss: 7.8886 - mean_absolute_error: 7.8886 - val_loss: 27.0975 - val_mean_absolute_error: 27.0975\n",
            "Epoch 199/200\n",
            "22/22 [==============================] - 1s 27ms/step - loss: 7.8583 - mean_absolute_error: 7.8583 - val_loss: 29.0865 - val_mean_absolute_error: 29.0865\n",
            "Epoch 200/200\n",
            "22/22 [==============================] - 1s 27ms/step - loss: 10.7305 - mean_absolute_error: 10.7305 - val_loss: 27.8552 - val_mean_absolute_error: 27.8552\n"
          ],
          "name": "stdout"
        }
      ]
    },
    {
      "cell_type": "code",
      "metadata": {
        "id": "MOxySfwnke8L"
      },
      "source": [
        "y_pred=best_model.predict(X_test)"
      ],
      "execution_count": null,
      "outputs": []
    },
    {
      "cell_type": "code",
      "metadata": {
        "colab": {
          "base_uri": "https://localhost:8080/"
        },
        "id": "xB939UIJknjL",
        "outputId": "41831b5b-eae0-458c-946a-84bdbc319484"
      },
      "source": [
        "from sklearn.metrics import mean_absolute_error\n",
        "mean_absolute_error(y_test, y_pred)"
      ],
      "execution_count": null,
      "outputs": [
        {
          "output_type": "execute_result",
          "data": {
            "text/plain": [
              "19.65605088462387"
            ]
          },
          "metadata": {
            "tags": []
          },
          "execution_count": 19
        }
      ]
    },
    {
      "cell_type": "code",
      "metadata": {
        "id": "VOnaH4Tukmb7",
        "colab": {
          "base_uri": "https://localhost:8080/"
        },
        "outputId": "fc795b07-25fa-414c-c279-600442a2e19d"
      },
      "source": [
        "print(model_hist.history.keys())\n"
      ],
      "execution_count": null,
      "outputs": [
        {
          "output_type": "stream",
          "text": [
            "dict_keys(['loss', 'mean_absolute_error', 'val_loss', 'val_mean_absolute_error'])\n"
          ],
          "name": "stdout"
        }
      ]
    },
    {
      "cell_type": "code",
      "metadata": {
        "colab": {
          "base_uri": "https://localhost:8080/",
          "height": 295
        },
        "id": "LAV1BxU0oR_d",
        "outputId": "28364d9d-5647-4ac8-b917-7996c1c96bbc"
      },
      "source": [
        "import matplotlib.pyplot as plt\n",
        "plt.plot(model_hist.history['mean_absolute_error'])\n",
        "plt.plot(model_hist.history['val_mean_absolute_error'])\n",
        "plt.title('model mse')\n",
        "plt.ylabel('mse')\n",
        "plt.xlabel('epoch')\n",
        "plt.legend(['train', 'test'], loc='upper left')\n",
        "plt.show()"
      ],
      "execution_count": null,
      "outputs": [
        {
          "output_type": "display_data",
          "data": {
            "image/png": "[encoded data removed]",
            "text/plain": [
              "<Figure size 432x288 with 1 Axes>"
            ]
          },
          "metadata": {
            "tags": [],
            "needs_background": "light"
          }
        }
      ]
    },
    {
      "cell_type": "code",
      "metadata": {
        "colab": {
          "base_uri": "https://localhost:8080/",
          "height": 295
        },
        "id": "XfFMyqVboai7",
        "outputId": "0b49bae2-6e4d-4aaf-9823-c159758953aa"
      },
      "source": [
        "#Loss function\n",
        "plt.plot(model_hist.history['loss'])\n",
        "plt.plot(model_hist.history['val_loss'])\n",
        "plt.title('model loss')\n",
        "plt.ylabel('loss')\n",
        "plt.xlabel('epoch')\n",
        "plt.legend(['train', 'test'], loc='upper left')\n",
        "plt.show()"
      ],
      "execution_count": null,
      "outputs": [
        {
          "output_type": "display_data",
          "data": {
            "image/png": "[encoded data removed]",
            "text/plain": [
              "<Figure size 432x288 with 1 Axes>"
            ]
          },
          "metadata": {
            "tags": [],
            "needs_background": "light"
          }
        }
      ]
    },
    {
      "cell_type": "code",
      "metadata": {
        "id": "ejxZ2Y_6o7ze"
      },
      "source": [
        "#loss decreases until the 100 epochs and then starts increasing for test_set"
      ],
      "execution_count": null,
      "outputs": []
    }
  ]
}